{
 "cells": [
  {
   "cell_type": "markdown",
   "metadata": {},
   "source": [
    "# Buncha imports"
   ]
  },
  {
   "cell_type": "code",
   "execution_count": 1,
   "metadata": {},
   "outputs": [],
   "source": [
    "import numpy as np\n",
    "import matplotlib.pylab as plt \n",
    "%matplotlib inline\n",
    "import networkx as nx\n",
    "import SpringRank_tools as sr\n",
    "import tools as tl\n",
    "from scipy.optimize import brentq"
   ]
  },
  {
   "cell_type": "markdown",
   "metadata": {},
   "source": [
    "# Some helpers"
   ]
  },
  {
   "cell_type": "code",
   "execution_count": 2,
   "metadata": {},
   "outputs": [],
   "source": [
    "def eqs39(beta,s,A):\n",
    "    N = np.shape(A)[0]\n",
    "    x = 0\n",
    "    for i in range(N):\n",
    "        for j in range(N):\n",
    "            if A[i,j] == 0:\n",
    "                continue\n",
    "            else:\n",
    "                x += (s[i]-s[j]) * ( A[i,j] - (A[i,j]+A[j,i]) / (1+np.exp(-2*beta*(s[i]-s[j]))) )\n",
    "    return x\n",
    "def predict(si,sj,beta):\n",
    "    return 1/(1+np.exp(-2*beta*(si-sj)))"
   ]
  },
  {
   "cell_type": "markdown",
   "metadata": {},
   "source": [
    "# Test Script"
   ]
  },
  {
   "cell_type": "markdown",
   "metadata": {},
   "source": [
    "### 1. Load in some test data and turn it into a matrix"
   ]
  },
  {
   "cell_type": "code",
   "execution_count": 3,
   "metadata": {},
   "outputs": [],
   "source": [
    "# where's the data?\n",
    "fname = 'test.txt'\n",
    "# load in the data. NOTE the delimiter here is set to tab but you can set to \",\" or \" \"\n",
    "comparisons = np.loadtxt(fname,delimiter=\"\\t\",dtype=int)\n",
    "\n",
    "# If you are indexing from 1, we're going to shift to 0...\n",
    "if np.min(comparisons)==1:\n",
    "    comparisons += -1\n",
    "# Turn it into a matrix\n",
    "N = int(np.max(comparisons))\n",
    "A = np.zeros([N+1,N+1])\n",
    "for comp in comparisons:\n",
    "    i = comp[0]\n",
    "    j = comp[1]\n",
    "    if len(comp)==3:\n",
    "        if comp[2] > 0:\n",
    "            A[i,j] += comp[2]\n",
    "        else:\n",
    "            A[i,j] += 1            \n",
    "    if len(comp)==2:\n",
    "        A[i,j] += 1\n",
    "A = np.matrix(A)"
   ]
  },
  {
   "cell_type": "markdown",
   "metadata": {},
   "source": [
    "### Compute ranks, shift to min_rank=0, and compute temperature"
   ]
  },
  {
   "cell_type": "code",
   "execution_count": 4,
   "metadata": {},
   "outputs": [
    {
     "name": "stdout",
     "output_type": "stream",
     "text": [
      "Using faster computation: fixing a rank degree of freedom\n",
      "Switched to scipy.sparse.linalg.bicgstab(A,B)[0]\n"
     ]
    }
   ],
   "source": [
    "# compute the ranks\n",
    "rank=sr.SpringRank(A,alpha=0,l0=1.,l1=1.)\n",
    "# cleanup so that min rank is 0\n",
    "rank=tl.shift_rank(rank)\n",
    "# compute the inverse temperature tha best describes the system\n",
    "betahat = brentq(eqs39,1e-3,100,args=(rank,A))"
   ]
  },
  {
   "cell_type": "markdown",
   "metadata": {},
   "source": [
    "### Print ranks and temperature"
   ]
  },
  {
   "cell_type": "code",
   "execution_count": 7,
   "metadata": {},
   "outputs": [
    {
     "name": "stdout",
     "output_type": "stream",
     "text": [
      "[1.25606053 2.29868076 0.51998223 1.65397167 1.82667183 1.293281\n",
      " 0.89261593 1.11223643 0.97540173 1.36709654 1.46968405 1.90615943\n",
      " 0.94777421 0.9601224  0.83033127 1.93895248 1.67724258 1.32138089\n",
      " 0.32855538 1.77449438 0.72292203 0.29991562 0.49855112 1.11458919\n",
      " 1.67542181 1.69739161 0.48977453 1.76723828 0.92836972 0.52323807\n",
      " 0.36227154 1.49753775 1.15832945 0.98410719 0.99882644 1.39938292\n",
      " 1.76909331 1.08545358 2.00824094 0.84352842 2.2876704  0.97470036\n",
      " 2.12849938 1.04320128 1.36952717 1.28767112 0.69539734 1.21366342\n",
      " 1.34630362 1.541585   0.64133877 2.45971277 1.69266621 0.9817669\n",
      " 1.29652942 2.09247321 1.20979982 1.45324142 0.53307656 0.878458\n",
      " 0.25644545 1.15157978 0.         1.39262849 0.91311655 1.15743302\n",
      " 0.72633726 1.48417596 1.60037421 1.60495125 1.02844465 0.83086565\n",
      " 0.09100516 1.24959807 1.19998348 1.19831203 0.84766322 1.13151384\n",
      " 1.34257548 2.15803181 0.42529316 0.5703384  0.9716804  0.96758652\n",
      " 1.79465031 0.1377077  1.05641519 0.22952146 1.19998348 1.57436673\n",
      " 1.03864936 1.45961016 1.16714734 1.2330097  1.80057233 1.09779717\n",
      " 3.45977316 1.1764981  0.8307497  1.13980047]\n",
      "1.511054564406743\n"
     ]
    }
   ],
   "source": [
    "# what are the ranks?\n",
    "print(rank)\n",
    "# what is the inverse temperature?\n",
    "print(betahat)"
   ]
  },
  {
   "cell_type": "markdown",
   "metadata": {},
   "source": [
    "### Predict the outcome of an unobserved comparison"
   ]
  },
  {
   "cell_type": "code",
   "execution_count": 8,
   "metadata": {},
   "outputs": [
    {
     "data": {
      "text/plain": [
       "0.7006303086998421"
      ]
     },
     "execution_count": 8,
     "metadata": {},
     "output_type": "execute_result"
    }
   ],
   "source": [
    "# try a prediction\n",
    "# predict(rank_i, rank_j, betahat)\n",
    "predict(rank[0],rank[41],betahat)"
   ]
  },
  {
   "cell_type": "code",
   "execution_count": null,
   "metadata": {},
   "outputs": [],
   "source": []
  }
 ],
 "metadata": {
  "kernelspec": {
   "display_name": "Python 3",
   "language": "python",
   "name": "python3"
  },
  "language_info": {
   "codemirror_mode": {
    "name": "ipython",
    "version": 3
   },
   "file_extension": ".py",
   "mimetype": "text/x-python",
   "name": "python",
   "nbconvert_exporter": "python",
   "pygments_lexer": "ipython3",
   "version": "3.7.0"
  }
 },
 "nbformat": 4,
 "nbformat_minor": 2
}
